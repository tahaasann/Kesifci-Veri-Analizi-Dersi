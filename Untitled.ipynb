{
 "cells": [
  {
   "cell_type": "code",
   "execution_count": 1,
   "id": "9979e941-55ef-46b2-ba76-f3a06a2101a7",
   "metadata": {},
   "outputs": [
    {
     "name": "stdout",
     "output_type": "stream",
     "text": [
      "10 -3 0\n",
      "<class 'int'>\n"
     ]
    }
   ],
   "source": [
    "x=10\n",
    "y=-3\n",
    "z=0\n",
    "\n",
    "print(x,y,z)\n",
    "print(type(x))"
   ]
  },
  {
   "cell_type": "code",
   "execution_count": 3,
   "id": "3c312eb4-8fd1-4353-92a4-e41d4c0659c4",
   "metadata": {},
   "outputs": [
    {
     "name": "stdout",
     "output_type": "stream",
     "text": [
      "7.35\n"
     ]
    }
   ],
   "source": [
    "# float sayılarda yuvarlama\n",
    "value = 7.3546789\n",
    "rounded_value = round(value, 2)\n",
    "print(rounded_value)"
   ]
  },
  {
   "cell_type": "code",
   "execution_count": 7,
   "id": "cb2a2da8-112b-4641-8d6b-fb1897ce15f1",
   "metadata": {},
   "outputs": [
    {
     "name": "stdout",
     "output_type": "stream",
     "text": [
      "3 7.0\n"
     ]
    }
   ],
   "source": [
    "int_value = int(3.99)\n",
    "float_value = float(7)\n",
    "\n",
    "print(int_value, float_value)"
   ]
  },
  {
   "cell_type": "code",
   "execution_count": 11,
   "id": "4c557696-95f3-44e5-b99a-3b845cf5e72e",
   "metadata": {},
   "outputs": [
    {
     "name": "stdout",
     "output_type": "stream",
     "text": [
      "john doe\n"
     ]
    }
   ],
   "source": [
    "first_name = \"john\"\n",
    "last_name='doe'\n",
    "full = first_name + \" \" + last_name\n",
    "print(full)"
   ]
  },
  {
   "cell_type": "code",
   "execution_count": 15,
   "id": "7eb1c68e-3bd6-4e64-aa3a-97dd67da48ec",
   "metadata": {},
   "outputs": [
    {
     "name": "stdout",
     "output_type": "stream",
     "text": [
      "python python python \n"
     ]
    }
   ],
   "source": [
    "word = \"python \"\n",
    "print(word * 3)"
   ]
  },
  {
   "cell_type": "code",
   "execution_count": 17,
   "id": "79ecf6c5-2062-4606-b931-8be2bca78d7f",
   "metadata": {},
   "outputs": [
    {
     "name": "stdout",
     "output_type": "stream",
     "text": [
      "My age is 25\n"
     ]
    }
   ],
   "source": [
    "age = 25\n",
    "message = f\"My age is {age}\"\n",
    "print(message)"
   ]
  },
  {
   "cell_type": "code",
   "execution_count": 19,
   "id": "5e26e36a-d0ed-46e0-b76b-4dbdf02a53bd",
   "metadata": {},
   "outputs": [
    {
     "ename": "TypeError",
     "evalue": "can only concatenate str (not \"int\") to str",
     "output_type": "error",
     "traceback": [
      "\u001b[1;31m---------------------------------------------------------------------------\u001b[0m",
      "\u001b[1;31mTypeError\u001b[0m                                 Traceback (most recent call last)",
      "Cell \u001b[1;32mIn[19], line 2\u001b[0m\n\u001b[0;32m      1\u001b[0m age \u001b[38;5;241m=\u001b[39m \u001b[38;5;241m25\u001b[39m\n\u001b[1;32m----> 2\u001b[0m message \u001b[38;5;241m=\u001b[39m \u001b[38;5;124m\"\u001b[39m\u001b[38;5;124mI am \u001b[39m\u001b[38;5;124m\"\u001b[39m \u001b[38;5;241m+\u001b[39m age \u001b[38;5;241m+\u001b[39m \u001b[38;5;124m\"\u001b[39m\u001b[38;5;124m years old.\u001b[39m\u001b[38;5;124m\"\u001b[39m\n",
      "\u001b[1;31mTypeError\u001b[0m: can only concatenate str (not \"int\") to str"
     ]
    }
   ],
   "source": [
    "age = 25\n",
    "message = \"I am \" + age + \" years old.\"\n"
   ]
  },
  {
   "cell_type": "code",
   "execution_count": 23,
   "id": "c8a86323-870d-43dd-8a82-e431cd1f7e5f",
   "metadata": {},
   "outputs": [
    {
     "name": "stdout",
     "output_type": "stream",
     "text": [
      "I am 25 years old.\n"
     ]
    }
   ],
   "source": [
    "message = \"I am \" + str(age) + \" years old.\"\n",
    "print(message)"
   ]
  },
  {
   "cell_type": "code",
   "execution_count": 25,
   "id": "bc79b2ef-5d71-4e32-bf48-49c07fb7c96d",
   "metadata": {},
   "outputs": [
    {
     "name": "stdout",
     "output_type": "stream",
     "text": [
      "18\n"
     ]
    }
   ],
   "source": [
    "print(len(message))"
   ]
  },
  {
   "cell_type": "code",
   "execution_count": 27,
   "id": "e3976a97-38d2-466b-8465-9cb23c2a2bed",
   "metadata": {},
   "outputs": [
    {
     "name": "stdout",
     "output_type": "stream",
     "text": [
      "-1\n"
     ]
    }
   ],
   "source": [
    "# Negatif float sayılar her zaman yukarı doğru rounded edilir yani yuvarlanır.\n",
    "print(int(-1.785))"
   ]
  },
  {
   "cell_type": "code",
   "execution_count": 31,
   "id": "b32778a1-7b27-4f46-bbca-c3d92d3bee0d",
   "metadata": {},
   "outputs": [
    {
     "name": "stdout",
     "output_type": "stream",
     "text": [
      "1\n"
     ]
    }
   ],
   "source": [
    "# Pozitif float sayılar her zaman aşağıya doğru rounded edilir yani yuvarlanır.\n",
    "print(int(1.785))"
   ]
  },
  {
   "cell_type": "code",
   "execution_count": 33,
   "id": "4e5987b1-c533-4881-911d-f47a279858cd",
   "metadata": {},
   "outputs": [
    {
     "name": "stdout",
     "output_type": "stream",
     "text": [
      "\n"
     ]
    }
   ],
   "source": [
    "print(\"abc\" * False)"
   ]
  },
  {
   "cell_type": "code",
   "execution_count": 35,
   "id": "e3df52ef-8fc3-45df-825f-95e27bc0fe48",
   "metadata": {},
   "outputs": [
    {
     "name": "stdout",
     "output_type": "stream",
     "text": [
      "abc\n"
     ]
    }
   ],
   "source": [
    "print(\"abc\" * True)"
   ]
  },
  {
   "cell_type": "code",
   "execution_count": null,
   "id": "c39f5e71-c097-44e5-ad1c-913207d531e2",
   "metadata": {},
   "outputs": [],
   "source": []
  }
 ],
 "metadata": {
  "kernelspec": {
   "display_name": "Python 3 (ipykernel)",
   "language": "python",
   "name": "python3"
  },
  "language_info": {
   "codemirror_mode": {
    "name": "ipython",
    "version": 3
   },
   "file_extension": ".py",
   "mimetype": "text/x-python",
   "name": "python",
   "nbconvert_exporter": "python",
   "pygments_lexer": "ipython3",
   "version": "3.11.7"
  }
 },
 "nbformat": 4,
 "nbformat_minor": 5
}
